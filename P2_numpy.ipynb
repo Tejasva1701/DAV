{
 "cells": [
  {
   "cell_type": "code",
   "execution_count": 1,
   "id": "da9d42b2",
   "metadata": {},
   "outputs": [
    {
     "name": "stdout",
     "output_type": "stream",
     "text": [
      "[[32 24 23 38]\n",
      " [21 35 33  9]\n",
      " [32 17 38 47]\n",
      " [25 46  2 26]]\n",
      "Mean :  [29.25 24.5  33.5  24.75]\n",
      "Standard Deviation :  [ 6.13901458 10.42832681 10.92016483 15.5784306 ]\n",
      "Variance :  [ 37.6875 108.75   119.25   242.6875]\n"
     ]
    }
   ],
   "source": [
    "import numpy as np\n",
    "from numpy import random \n",
    "\n",
    "\n",
    "arr1 = np.random.randint(50,size=(4,4))\n",
    "print(arr1)\n",
    "# part a.\n",
    "print(\"Mean : \",arr1.mean(axis=1))\n",
    "print(\"Standard Deviation : \",arr1.std(axis=1))\n",
    "print(\"Variance : \",arr1.var(axis=1))\n",
    "\n"
   ]
  },
  {
   "cell_type": "code",
   "execution_count": 2,
   "id": "6116f0a9",
   "metadata": {},
   "outputs": [
    {
     "name": "stdout",
     "output_type": "stream",
     "text": [
      "[56 48 22 41 78 91 24 46  8 33]\n",
      "[ 8 22 24 33 41 46 48 56 78 91]\n",
      "Index of 8 is:  0\n",
      "Index of 22 is:  1\n",
      "Index of 24 is:  2\n",
      "Index of 33 is:  3\n",
      "Index of 41 is:  4\n",
      "Index of 46 is:  5\n",
      "Index of 48 is:  6\n",
      "Index of 56 is:  7\n",
      "Index of 78 is:  8\n",
      "Index of 91 is:  9\n"
     ]
    }
   ],
   "source": [
    "# part b.\n",
    "B = np.array([56,48,22,41,78,91,24,46,8,33])\n",
    "\n",
    "print(B)\n",
    "B = np.sort(B)\n",
    "print(B)\n",
    "\n",
    "for i in range(len(B)):\n",
    "    print(\"Index of\", B[i], \"is: \", i)\n"
   ]
  },
  {
   "cell_type": "code",
   "execution_count": 3,
   "id": "45fa0253",
   "metadata": {},
   "outputs": [
    {
     "name": "stdin",
     "output_type": "stream",
     "text": [
      "Enter Number of Row  :  4\n",
      "Enter Number of Column  :  5\n"
     ]
    },
    {
     "name": "stdout",
     "output_type": "stream",
     "text": [
      "[[ 9  3 41  7 10]\n",
      " [41 32 41 32 39]\n",
      " [ 8 24  8 41 13]\n",
      " [35 26  8 32  6]]\n",
      "Shape of mn is:  (4, 5)\n",
      "Data Type of mn is:  int32\n",
      "Type of mn is:  <class 'numpy.ndarray'>\n",
      "\n",
      "Reshaped array nm is:  [[ 9  3 41  7]\n",
      " [10 41 32 41]\n",
      " [32 39  8 24]\n",
      " [ 8 41 13 35]\n",
      " [26  8 32  6]]\n",
      "Shape of nm is:  (5, 4)\n",
      "Data Type of nm is:  int32\n",
      "Type of mn is:  <class 'numpy.ndarray'>\n"
     ]
    }
   ],
   "source": [
    "# part c.\n",
    "m=int(input(\"Enter Number of Row  : \"))\n",
    "n=int(input(\"Enter Number of Column  : \"))\n",
    "\n",
    "mn = np.random.randint(50,size=(m,n))\n",
    "print(mn)\n",
    "print(\"Shape of mn is: \",mn.shape)\n",
    "print(\"Data Type of mn is: \",mn.dtype)\n",
    "print(\"Type of mn is: \",type(mn))\n",
    "\n",
    "nm = mn.reshape(n,m)\n",
    "print(\"\\nReshaped array nm is: \",nm)\n",
    "print(\"Shape of nm is: \",nm.shape)\n",
    "print(\"Data Type of nm is: \",nm.dtype)\n",
    "print(\"Type of mn is: \",type(nm))\n"
   ]
  },
  {
   "cell_type": "code",
   "execution_count": 7,
   "id": "cf6591aa",
   "metadata": {},
   "outputs": [
    {
     "name": "stdout",
     "output_type": "stream",
     "text": [
      "Zero elements at indices:  [3, 6]\n",
      "Non-Zero elements at indices:  [0, 1, 4]\n",
      "NaN elements at indices:  [2, 5]\n"
     ]
    }
   ],
   "source": [
    "# part d.\n",
    "data_arr= np.array([4,7,'xyz',0,3,'abc',0])\n",
    "Zero=[]\n",
    "non_zero=[]\n",
    "NaN = []\n",
    "\n",
    "for i in range(len(data_arr)):\n",
    "    if(data_arr[i].isdigit()):\n",
    "        if(data_arr[i]=='0'):\n",
    "            Zero.append(i)\n",
    "        else:\n",
    "            non_zero.append(i)\n",
    "    else:\n",
    "        NaN.append(i)\n",
    "        \n",
    "        \n",
    "print('Zero elements at indices: ',Zero)\n",
    "print('Non-Zero elements at indices: ',non_zero)\n",
    "print('NaN elements at indices: ',NaN)"
   ]
  },
  {
   "cell_type": "code",
   "execution_count": null,
   "id": "7d802a9c-da74-40f2-9f9f-a425793d6870",
   "metadata": {},
   "outputs": [],
   "source": []
  }
 ],
 "metadata": {
  "kernelspec": {
   "display_name": "Python 3 (ipykernel)",
   "language": "python",
   "name": "python3"
  },
  "language_info": {
   "codemirror_mode": {
    "name": "ipython",
    "version": 3
   },
   "file_extension": ".py",
   "mimetype": "text/x-python",
   "name": "python",
   "nbconvert_exporter": "python",
   "pygments_lexer": "ipython3",
   "version": "3.12.0"
  }
 },
 "nbformat": 4,
 "nbformat_minor": 5
}
