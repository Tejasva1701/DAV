{
 "cells": [
  {
   "cell_type": "code",
   "execution_count": 1,
   "id": "6e044818",
   "metadata": {},
   "outputs": [
    {
     "name": "stdout",
     "output_type": "stream",
     "text": [
      "[{'Boys': 72, 'Girls': 63}, {'Boys': 68, 'Girls': 65}, {'Boys': 70, 'Girls': 69}, {'Boys': 69, 'Girls': 62}, {'Boys': 74, 'Girls': 61}]\n"
     ]
    }
   ],
   "source": [
    "students = {\"Boys\":[72,68,70,69,74],\"Girls\":[63,65,69,62,61]}\n",
    "data=[]\n",
    "\n",
    "for i in range(len(students[\"Boys\"])):\n",
    "    x={}\n",
    "    x[\"Boys\"]=students[\"Boys\"][i]\n",
    "    x[\"Girls\"]=students[\"Girls\"][i]\n",
    "    data.append(x)\n",
    "    \n",
    "print(data)\n",
    "        "
   ]
  },
  {
   "cell_type": "code",
   "execution_count": null,
   "id": "e559f376",
   "metadata": {},
   "outputs": [],
   "source": []
  }
 ],
 "metadata": {
  "kernelspec": {
   "display_name": "Python 3 (ipykernel)",
   "language": "python",
   "name": "python3"
  },
  "language_info": {
   "codemirror_mode": {
    "name": "ipython",
    "version": 3
   },
   "file_extension": ".py",
   "mimetype": "text/x-python",
   "name": "python",
   "nbconvert_exporter": "python",
   "pygments_lexer": "ipython3",
   "version": "3.12.0"
  }
 },
 "nbformat": 4,
 "nbformat_minor": 5
}
